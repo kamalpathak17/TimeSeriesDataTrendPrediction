#-----------------------------Data Mining Project-----------------------------------------------------------------#
# Load libraries
import csv
import pandas as pd
import numpy as np
import matplotlib.pyplot as plt
#Implementing ARIMA model
from statsmodels.tsa.arima_model import ARIMA
%matplotlib inline 


#Reading the file
#Location from where the file should be read.
file_loc="/Users/kamalpathak/Desktop/product_distribution_training_set.txt"  

#Creating a dataframe from the file.
productdistribution_dataframe=pd.read_csv(file_loc,delimiter='\t',header=None) 

#Reading the values vertically one after the other.
productdistribution_dataframe_transpose=productdistribution_dataframe.T  

#Extracting product IDs from the sales values.
keyProduct_dataframe=productdistribution_dataframe_transpose[:1] 
keyProduct_ID_dataframe=keyProduct_dataframe.T
#print(keyProduct_ID_dataframe)

#Writing it to CSV
keyProduct_ID_dataframe.to_csv('Product_ID.txt',index=False,sep="\t")

#----------------------ALL KEY PRODUCTS ---------------------------------------------------------#
#Creating a dataframe from the file.
AllKeyProducts_Dataframe=pd.read_csv(file_loc,delimiter='\t',header=None) 
#Reading the values vertically one after the other.
AllKeyProducts_Dataframe_Transpose=AllKeyProducts_Dataframe.T  
#Removing the product ID from the sales values.
KeyProd_Dataframe=AllKeyProducts_Dataframe_Transpose[1:]

#Final Dataframe
Final_Dataframe=pd.DataFrame(index=range(29),columns=range(100))

KeyProd_Dataframe.sum(axis=0)
Total_Sales_Dataframe=KeyProd_Dataframe.sum(axis=1)
#print(len(Total_Sales_Dataframe))

#Predicting Forecast
myDataframe = Total_Sales_Dataframe.values
model = ARIMA(myDataframe, order=(2,1,0))
model_fit = model.fit()
#Passing steps='29' as an argument to forecast method for the next 29 days prediction.
Final_Dataframe = model_fit.forecast(steps=29) 

#Replaces negative values to zero
Final_Dataframe[0][Final_Dataframe[0]<0]=0 

#print(Final_dataframe[0].astype(int))
DataFrame=Final_Dataframe[0].astype(int)
with open('SalesPredictions.txt', 'a') as myfile:
    wr = csv.writer(myfile, delimiter=' ')
    wr.writerow(DataFrame)
    #print("File successfully written!")
    

#-----------------------For Individual Key Products----------------------------------------#
#Creating a dataframe from the file.
IndividualProd_Dataframe=pd.read_csv(file_loc,delimiter='\t',header=None) 
#Reading the values vertically one after the other.
IndividualProd_Dataframe_Transpose=IndividualProd_Dataframe.T  
#Removing the product ID from the sales values.
IndividualProducts_Dataframe=IndividualProd_Dataframe_Transpose[1:] 

#Final Dataframe
Final_Dataframe=pd.DataFrame(index=range(29),columns=range(100))
#Result Dataframe
result_dataframe=pd.DataFrame()

try:
    for i in range(0,len(IndividualProducts_Dataframe)):
        Dataset=IndividualProducts_Dataframe[i]
        #Predicting Forecast
        myVal = Dataset.values
        model = ARIMA(myVal, order=(2,1,0))
        model_fit = model.fit()
        #Passing steps='29' as an argument to forecast method for the next 29 days prediction.
        Final_Dataframe = model_fit.forecast(steps=29) 
        #Replaces negative values to zero
        Final_Dataframe[0][Final_Dataframe[0]<0]=0 
        
        NewDataframe=Final_Dataframe[0].astype(int)
        #print(NewDataframe)
        
        with open('SalesPredictions.txt', 'a') as myfile:
            wr = csv.writer(myfile, delimiter=' ')
            wr.writerow(NewDataframe)
            #print("File successfully appended!")
except KeyError:
    print("Successful!!")
    
#Create final Predictions file after merging all the CSV's
df1_keyproductId=pd.read_csv("Product_Id.txt")

df2_salesprediction=pd.read_csv("SalesPredictions.txt")

thesalesprediction_df=pd.concat([df1_keyproductId,df2_salesprediction],axis=1)

thesalesprediction_df.to_csv('FinalDataPredictions.txt',index=False,sep="\t")
print("Predictions successfully calculated and written in FinalDataPredictions.txt!!")
